{
 "cells": [
  {
   "cell_type": "markdown",
   "metadata": {},
   "source": [
    "<p style=\"text-align:center\">\n",
    "    <a href=\"https://skills.network\" target=\"_blank\">\n",
    "    <img src=\"https://cf-courses-data.s3.us.cloud-object-storage.appdomain.cloud/assets/logos/SN_web_lightmode.png\" width=\"200\" alt=\"Skills Network Logo\">\n",
    "    </a>\n",
    "</p>\n",
    "\n",
    "<h1 align=center><font size = 5>Assignment: SQL Notebook for Peer Assignment</font></h1>\n",
    "\n",
    "Estimated time needed: **60** minutes.\n",
    "\n",
    "## Introduction\n",
    "Using this Python notebook you will:\n",
    "\n",
    "1.  Understand the Spacex DataSet\n",
    "2.  Load the dataset  into the corresponding table in a Db2 database\n",
    "3.  Execute SQL queries to answer assignment questions \n"
   ]
  },
  {
   "cell_type": "markdown",
   "metadata": {},
   "source": [
    "## Overview of the DataSet\n",
    "\n",
    "SpaceX has gained worldwide attention for a series of historic milestones. \n",
    "\n",
    "It is the only private company ever to return a spacecraft from low-earth orbit, which it first accomplished in December 2010.\n",
    "SpaceX advertises Falcon 9 rocket launches on its website with a cost of 62 million dollars wheras other providers cost upward of 165 million dollars each, much of the savings is because Space X can reuse the first stage. \n",
    "\n",
    "\n",
    "Therefore if we can determine if the first stage will land, we can determine the cost of a launch. \n",
    "\n",
    "This information can be used if an alternate company wants to bid against SpaceX for a rocket launch.\n",
    "\n",
    "This dataset includes a record for each payload carried during a SpaceX mission into outer space.\n"
   ]
  },
  {
   "cell_type": "markdown",
   "metadata": {},
   "source": [
    "### Download the datasets\n",
    "\n",
    "This assignment requires you to load the spacex dataset.\n",
    "\n",
    "In many cases the dataset to be analyzed is available as a .CSV (comma separated values) file, perhaps on the internet. Click on the link below to download and save the dataset (.CSV file):\n",
    "\n",
    " <a href=\"https://cf-courses-data.s3.us.cloud-object-storage.appdomain.cloud/IBM-DS0321EN-SkillsNetwork/labs/module_2/data/Spacex.csv\" target=\"_blank\">Spacex DataSet</a>\n",
    "\n"
   ]
  },
  {
   "cell_type": "code",
   "execution_count": 1,
   "metadata": {
    "tags": []
   },
   "outputs": [
    {
     "name": "stdout",
     "output_type": "stream",
     "text": [
      "Collecting sqlalchemy==1.3.9\n",
      "  Downloading SQLAlchemy-1.3.9.tar.gz (6.0 MB)\n",
      "\u001b[2K     \u001b[90m━━━━━━━━━━━━━━━━━━━━━━━━━━━━━━━━━━━━━━━━\u001b[0m \u001b[32m6.0/6.0 MB\u001b[0m \u001b[31m50.5 MB/s\u001b[0m eta \u001b[36m0:00:00\u001b[0m00:01\u001b[0m00:01\u001b[0m\n",
      "\u001b[?25h  Preparing metadata (setup.py) ... \u001b[?25ldone\n",
      "\u001b[?25hBuilding wheels for collected packages: sqlalchemy\n",
      "  Building wheel for sqlalchemy (setup.py) ... \u001b[?25ldone\n",
      "\u001b[?25h  Created wheel for sqlalchemy: filename=SQLAlchemy-1.3.9-cp37-cp37m-linux_x86_64.whl size=1159121 sha256=b2550ee57806fdb7d8cff26ebd9b87aa0b120ca5f3bcd690926f399566381739\n",
      "  Stored in directory: /home/jupyterlab/.cache/pip/wheels/03/71/13/010faf12246f72dc76b4150e6e599d13a85b4435e06fb9e51f\n",
      "Successfully built sqlalchemy\n",
      "Installing collected packages: sqlalchemy\n",
      "  Attempting uninstall: sqlalchemy\n",
      "    Found existing installation: SQLAlchemy 1.3.24\n",
      "    Uninstalling SQLAlchemy-1.3.24:\n",
      "      Successfully uninstalled SQLAlchemy-1.3.24\n",
      "Successfully installed sqlalchemy-1.3.9\n"
     ]
    }
   ],
   "source": [
    "!pip install sqlalchemy==1.3.9\n"
   ]
  },
  {
   "cell_type": "markdown",
   "metadata": {},
   "source": [
    "### Connect to the database\n",
    "\n",
    "Let us first load the SQL extension and establish a connection with the database\n"
   ]
  },
  {
   "cell_type": "code",
   "execution_count": 2,
   "metadata": {
    "tags": []
   },
   "outputs": [],
   "source": [
    "%load_ext sql"
   ]
  },
  {
   "cell_type": "code",
   "execution_count": 3,
   "metadata": {
    "tags": []
   },
   "outputs": [],
   "source": [
    "import csv, sqlite3\n",
    "\n",
    "con = sqlite3.connect(\"my_data1.db\")\n",
    "cur = con.cursor()"
   ]
  },
  {
   "cell_type": "code",
   "execution_count": 4,
   "metadata": {
    "tags": []
   },
   "outputs": [],
   "source": [
    "!pip install -q pandas==1.1.5"
   ]
  },
  {
   "cell_type": "code",
   "execution_count": 5,
   "metadata": {
    "tags": []
   },
   "outputs": [
    {
     "data": {
      "text/plain": [
       "'Connected: @my_data1.db'"
      ]
     },
     "execution_count": 5,
     "metadata": {},
     "output_type": "execute_result"
    }
   ],
   "source": [
    "%sql sqlite:///my_data1.db"
   ]
  },
  {
   "cell_type": "code",
   "execution_count": 6,
   "metadata": {
    "tags": []
   },
   "outputs": [
    {
     "name": "stderr",
     "output_type": "stream",
     "text": [
      "/home/jupyterlab/conda/envs/python/lib/python3.7/site-packages/pandas/core/generic.py:2882: UserWarning: The spaces in these column names will not be changed. In pandas versions < 0.14, spaces were converted to underscores.\n",
      "  both result in 0.1234 being formatted as 0.12.\n"
     ]
    }
   ],
   "source": [
    "import pandas as pd\n",
    "df = pd.read_csv(\"https://cf-courses-data.s3.us.cloud-object-storage.appdomain.cloud/IBM-DS0321EN-SkillsNetwork/labs/module_2/data/Spacex.csv\")\n",
    "df.to_sql(\"SPACEXTBL\", con, if_exists='replace', index=False,method=\"multi\")"
   ]
  },
  {
   "cell_type": "markdown",
   "metadata": {},
   "source": [
    "**Note:This below code is added to remove blank rows from table**\n"
   ]
  },
  {
   "cell_type": "code",
   "execution_count": 7,
   "metadata": {
    "tags": []
   },
   "outputs": [
    {
     "name": "stdout",
     "output_type": "stream",
     "text": [
      " * sqlite:///my_data1.db\n",
      "Done.\n"
     ]
    },
    {
     "data": {
      "text/plain": [
       "[]"
      ]
     },
     "execution_count": 7,
     "metadata": {},
     "output_type": "execute_result"
    }
   ],
   "source": [
    "%sql create table SPACEXTABLE as select * from SPACEXTBL where Date is not null"
   ]
  },
  {
   "cell_type": "code",
   "execution_count": 10,
   "metadata": {
    "tags": []
   },
   "outputs": [],
   "source": [
    "df2 = pd.read_csv(\"https://cf-courses-data.s3.us.cloud-object-storage.appdomain.cloud/IBM-DS0321EN-SkillsNetwork/labs/module_2/data/Spacex.csv\")"
   ]
  },
  {
   "cell_type": "code",
   "execution_count": 11,
   "metadata": {
    "tags": []
   },
   "outputs": [
    {
     "data": {
      "text/plain": [
       "pandas.core.frame.DataFrame"
      ]
     },
     "execution_count": 11,
     "metadata": {},
     "output_type": "execute_result"
    }
   ],
   "source": [
    "type(df2)"
   ]
  },
  {
   "cell_type": "markdown",
   "metadata": {},
   "source": [
    "## Tasks\n",
    "\n",
    "Now write and execute SQL queries to solve the assignment tasks.\n",
    "\n",
    "**Note: If the column names are in mixed case enclose it in double quotes\n",
    "   For Example \"Landing_Outcome\"**\n",
    "\n",
    "### Task 1\n",
    "\n",
    "\n",
    "\n",
    "\n",
    "##### Display the names of the unique launch sites  in the space mission\n"
   ]
  },
  {
   "cell_type": "code",
   "execution_count": 14,
   "metadata": {
    "tags": []
   },
   "outputs": [
    {
     "name": "stdout",
     "output_type": "stream",
     "text": [
      "['Date', 'Time (UTC)', 'Booster_Version', 'Launch_Site', 'Payload', 'PAYLOAD_MASS__KG_', 'Orbit', 'Customer', 'Mission_Outcome', 'Landing_Outcome']\n"
     ]
    }
   ],
   "source": [
    "# Conectar a la base de datos\n",
    "connection = sqlite3.connect('my_data1.db')  # Reemplaza con el nombre de tu base de datos\n",
    "cursor = connection.cursor()\n",
    "\n",
    "# Nombre de la tabla\n",
    "nombre_de_la_tabla = 'SPACEXTABLE'  # Reemplaza con el nombre de tu tabla\n",
    "\n",
    "# Obtener la estructura de la tabla\n",
    "query = f\"PRAGMA table_info({nombre_de_la_tabla});\"\n",
    "cursor.execute(query)\n",
    "columns_info = cursor.fetchall()\n",
    "\n",
    "# Extraer los nombres de las columnas\n",
    "columnas = [info[1] for info in columns_info]\n",
    "\n",
    "# Mostrar las columnas\n",
    "print(columnas)\n",
    "\n",
    "connection.close()"
   ]
  },
  {
   "cell_type": "code",
   "execution_count": 37,
   "metadata": {
    "tags": []
   },
   "outputs": [
    {
     "name": "stdout",
     "output_type": "stream",
     "text": [
      "CCAFS LC-40\n",
      "VAFB SLC-4E\n",
      "KSC LC-39A\n",
      "CCAFS SLC-40\n"
     ]
    }
   ],
   "source": [
    "connection = sqlite3.connect('my_data1.db')  # Reemplaza con el nombre de tu base de datos\n",
    "cursor = connection.cursor()\n",
    "\n",
    "# Nombre de la tabla y columna\n",
    "nombre_de_la_tabla = 'SPACEXTABLE'  # Reemplaza con el nombre de tu tabla\n",
    "nombre_de_la_columna = 'Launch_Site'  # Reemplaza con el nombre de la columna\n",
    "\n",
    "# Obtener valores únicos de la columna\n",
    "query = f\"SELECT DISTINCT {nombre_de_la_columna} FROM {nombre_de_la_tabla};\"\n",
    "cursor.execute(query)\n",
    "valores_unicos = cursor.fetchall()\n",
    "\n",
    "# Mostrar los valores únicos\n",
    "for valor in valores_unicos:\n",
    "    print(valor[0])\n",
    "\n",
    "# Cerrar la conexión\n",
    "connection.close()"
   ]
  },
  {
   "cell_type": "markdown",
   "metadata": {},
   "source": [
    "\n",
    "### Task 2\n",
    "\n",
    "\n",
    "#####  Display 5 records where launch sites begin with the string 'CCA' \n"
   ]
  },
  {
   "cell_type": "code",
   "execution_count": 17,
   "metadata": {
    "tags": []
   },
   "outputs": [
    {
     "name": "stdout",
     "output_type": "stream",
     "text": [
      "('2010-04-06', '18:45:00', 'F9 v1.0  B0003', 'CCAFS LC-40', 'Dragon Spacecraft Qualification Unit', 0, 'LEO', 'SpaceX', 'Success', 'Failure (parachute)')\n",
      "('2010-08-12', '15:43:00', 'F9 v1.0  B0004', 'CCAFS LC-40', 'Dragon demo flight C1, two CubeSats, barrel of Brouere cheese', 0, 'LEO (ISS)', 'NASA (COTS) NRO', 'Success', 'Failure (parachute)')\n",
      "('2012-05-22', '07:44:00', 'F9 v1.0  B0005', 'CCAFS LC-40', 'Dragon demo flight C2', 525, 'LEO (ISS)', 'NASA (COTS)', 'Success', 'No attempt')\n",
      "('2012-08-10', '00:35:00', 'F9 v1.0  B0006', 'CCAFS LC-40', 'SpaceX CRS-1', 500, 'LEO (ISS)', 'NASA (CRS)', 'Success', 'No attempt')\n",
      "('2013-01-03', '15:10:00', 'F9 v1.0  B0007', 'CCAFS LC-40', 'SpaceX CRS-2', 677, 'LEO (ISS)', 'NASA (CRS)', 'Success', 'No attempt')\n"
     ]
    }
   ],
   "source": [
    "connection = sqlite3.connect('my_data1.db')  # Reemplaza con el nombre de tu base de datos\n",
    "cursor = connection.cursor()\n",
    "\n",
    "# Nombre de la tabla y columna\n",
    "nombre_de_la_tabla = 'SPACEXTABLE'  # Reemplaza con el nombre de tu tabla\n",
    "nombre_de_la_columna = 'Launch_Site'  # Reemplaza con el nombre de la columna\n",
    "\n",
    "# Obtener registros que cumplen con el criterio\n",
    "query = f\"SELECT * FROM {nombre_de_la_tabla} WHERE {nombre_de_la_columna} LIKE 'CCA%';\"\n",
    "cursor.execute(query)\n",
    "registros = cursor.fetchall()\n",
    "\n",
    "# Mostrar los primeros 5 registros\n",
    "for registro in registros[:5]:\n",
    "    print(registro)\n",
    "\n",
    "# Cerrar la conexión\n",
    "connection.close()"
   ]
  },
  {
   "cell_type": "markdown",
   "metadata": {},
   "source": [
    "### Task 3\n",
    "\n",
    "\n",
    "\n",
    "\n",
    "##### Display the total payload mass carried by boosters launched by NASA (CRS)\n"
   ]
  },
  {
   "cell_type": "code",
   "execution_count": 25,
   "metadata": {
    "tags": []
   },
   "outputs": [
    {
     "name": "stdout",
     "output_type": "stream",
     "text": [
      "La masa total de carga útil transportada por cohetes CRS de NASA es: 48213 kg\n"
     ]
    }
   ],
   "source": [
    "connection = sqlite3.connect('my_data1.db')  # Reemplaza con el nombre de tu base de datos\n",
    "cursor = connection.cursor()\n",
    "\n",
    "# Nombre de la tabla y columnas\n",
    "nombre_de_la_tabla = 'SPACEXTABLE'  # Reemplaza con el nombre de tu tabla\n",
    "nombre_de_la_columna_crs = 'Customer'  # Reemplaza con el nombre de la columna que indica si es un lanzamiento CRS\n",
    "nombre_de_la_columna_carga_util = 'PAYLOAD_MASS__KG_'  # Reemplaza con el nombre de la columna que contiene la masa de carga útil\n",
    "\n",
    "# Obtener la masa total de carga útil transportada por los cohetes CRS de NASA\n",
    "query = f\"SELECT SUM({nombre_de_la_columna_carga_util}) FROM {nombre_de_la_tabla} WHERE {nombre_de_la_columna_crs} LIKE '%(CRS)%' AND {nombre_de_la_columna_carga_util} IS NOT NULL;\"\n",
    "cursor.execute(query)\n",
    "masa_total_carga_util = cursor.fetchone()[0]\n",
    "\n",
    "# Mostrar la masa total de carga útil\n",
    "print(f\"La masa total de carga útil transportada por cohetes CRS de NASA es: {masa_total_carga_util} kg\")\n",
    "\n",
    "# Cerrar la conexión\n",
    "connection.close()"
   ]
  },
  {
   "cell_type": "markdown",
   "metadata": {},
   "source": [
    "### Task 4\n",
    "\n",
    "\n",
    "\n",
    "\n",
    "##### Display average payload mass carried by booster version F9 v1.1\n"
   ]
  },
  {
   "cell_type": "code",
   "execution_count": 27,
   "metadata": {
    "tags": []
   },
   "outputs": [
    {
     "name": "stdout",
     "output_type": "stream",
     "text": [
      "El promedio de carga útil por F9 v1.1: 2534.6666666666665 kg\n"
     ]
    }
   ],
   "source": [
    "connection = sqlite3.connect('my_data1.db')  # Reemplaza con el nombre de tu base de datos\n",
    "cursor = connection.cursor()\n",
    "\n",
    "# Nombre de la tabla y columnas\n",
    "nombre_de_la_tabla = 'SPACEXTABLE'  # Reemplaza con el nombre de tu tabla\n",
    "nombre_de_la_columna_booster = 'Booster_Version'  # Reemplaza con el nombre de la columna que indica si es un lanzamiento CRS\n",
    "nombre_de_la_columna_carga_util = 'PAYLOAD_MASS__KG_'  # Reemplaza con el nombre de la columna que contiene la masa de carga útil\n",
    "\n",
    "# Obtener la masa total de carga útil transportada por los cohetes CRS de NASA\n",
    "query = f\"SELECT AVG({nombre_de_la_columna_carga_util}) FROM {nombre_de_la_tabla} WHERE {nombre_de_la_columna_booster} LIKE '%F9 v1.1%' AND {nombre_de_la_columna_carga_util} IS NOT NULL;\"\n",
    "cursor.execute(query)\n",
    "masa_total_carga_util = cursor.fetchone()[0]\n",
    "\n",
    "# Mostrar la masa total de carga útil\n",
    "print(f\"El promedio de carga útil por F9 v1.1: {masa_total_carga_util} kg\")\n",
    "\n",
    "# Cerrar la conexión\n",
    "connection.close()"
   ]
  },
  {
   "cell_type": "markdown",
   "metadata": {},
   "source": [
    "### Task 5\n",
    "\n",
    "##### List the date when the first succesful landing outcome in ground pad was acheived.\n",
    "\n",
    "\n",
    "_Hint:Use min function_ \n"
   ]
  },
  {
   "cell_type": "code",
   "execution_count": 38,
   "metadata": {
    "tags": []
   },
   "outputs": [
    {
     "name": "stdout",
     "output_type": "stream",
     "text": [
      "La fecha del primer aterrizaje exitoso en ground pad fue: 2010-04-06\n"
     ]
    }
   ],
   "source": [
    "# Conectar a la base de datos\n",
    "connection = sqlite3.connect('my_data1.db')  # Reemplaza con el nombre de tu base de datos\n",
    "cursor = connection.cursor()\n",
    "\n",
    "# Nombre de la tabla y columnas\n",
    "nombre_de_la_tabla = 'SPACEXTABLE'  # Reemplaza con el nombre de tu tabla\n",
    "nombre_de_la_columna_fecha = 'Date'  # Reemplaza con el nombre de la columna de fechas\n",
    "nombre_de_la_columna_aterrizaje = 'Mission_Outcome'  # Reemplaza con el nombre de la columna de resultados de aterrizaje\n",
    "\n",
    "# Obtener la fecha del primer aterrizaje exitoso en ground pad\n",
    "query = f\"SELECT MIN({nombre_de_la_columna_fecha}) FROM {nombre_de_la_tabla} WHERE {nombre_de_la_columna_aterrizaje} LIKE 'Success';\"\n",
    "cursor.execute(query)\n",
    "fecha_primer_aterrizaje_exitoso = cursor.fetchone()[0]\n",
    "\n",
    "# Mostrar la fecha del primer aterrizaje exitoso en ground pad\n",
    "print(f\"La fecha del primer aterrizaje exitoso en ground pad fue: {fecha_primer_aterrizaje_exitoso}\")\n",
    "\n",
    "# Cerrar la conexión\n",
    "connection.close()"
   ]
  },
  {
   "cell_type": "markdown",
   "metadata": {},
   "source": [
    "### Task 6\n",
    "\n",
    "##### List the names of the boosters which have success in drone ship and have payload mass greater than 4000 but less than 6000\n"
   ]
  },
  {
   "cell_type": "code",
   "execution_count": 39,
   "metadata": {
    "tags": []
   },
   "outputs": [
    {
     "name": "stdout",
     "output_type": "stream",
     "text": [
      "F9 v1.1\n",
      "F9 v1.1 B1011\n",
      "F9 v1.1 B1014\n",
      "F9 v1.1 B1016\n",
      "F9 FT B1020\n",
      "F9 FT B1022\n",
      "F9 FT B1026\n",
      "F9 FT B1030\n",
      "F9 FT  B1021.2\n",
      "F9 FT B1032.1\n",
      "F9 B4 B1040.1\n",
      "F9 FT  B1031.2\n",
      "F9 FT  B1032.2\n",
      "F9 B4  B1040.2\n",
      "F9 B5 B1046.2\n",
      "F9 B5 B1047.2\n",
      "F9 B5 B1048.3\n",
      "F9 B5 B1051.2 \n",
      "F9 B5B1060.1\n",
      "F9 B5 B1058.2 \n",
      "F9 B5B1062.1\n"
     ]
    }
   ],
   "source": [
    "connection = sqlite3.connect('my_data1.db')  # Reemplaza con el nombre de tu base de datos\n",
    "cursor = connection.cursor()\n",
    "\n",
    "# Nombre de la tabla y columnas\n",
    "nombre_de_la_tabla = 'SPACEXTABLE'  # Reemplaza con el nombre de tu tabla\n",
    "nombre_de_la_columna_nombre = 'Booster_Version'  # Reemplaza con el nombre de la columna de nombres de cohetes\n",
    "nombre_de_la_columna_aterrizaje = 'Mission_Outcome'  # Reemplaza con el nombre de la columna de resultados de aterrizaje\n",
    "nombre_de_la_columna_carga_util = 'PAYLOAD_MASS__KG_'  # Reemplaza con el nombre de la columna de masa de carga útil\n",
    "\n",
    "# Obtener nombres de cohetes con éxito en drone ship y carga útil entre 4000 y 6000\n",
    "query = f\"SELECT {nombre_de_la_columna_nombre} FROM {nombre_de_la_tabla} WHERE {nombre_de_la_columna_aterrizaje} LIKE 'Success' AND {nombre_de_la_columna_carga_util} > 4000 AND {nombre_de_la_columna_carga_util} < 6000;\"\n",
    "cursor.execute(query)\n",
    "nombres_de_cohetes = cursor.fetchall()\n",
    "\n",
    "# Mostrar los nombres de los cohetes\n",
    "for nombre in nombres_de_cohetes:\n",
    "    print(nombre[0])\n",
    "\n",
    "# Cerrar la conexión\n",
    "connection.close()"
   ]
  },
  {
   "cell_type": "markdown",
   "metadata": {},
   "source": [
    "### Task 7\n",
    "\n",
    "\n",
    "\n",
    "\n",
    "##### List the total number of successful and failure mission outcomes\n"
   ]
  },
  {
   "cell_type": "code",
   "execution_count": 41,
   "metadata": {
    "tags": []
   },
   "outputs": [
    {
     "name": "stdout",
     "output_type": "stream",
     "text": [
      "Resultado: Failure (in flight), Cantidad: 1\n",
      "Resultado: Success, Cantidad: 98\n",
      "Resultado: Success , Cantidad: 1\n",
      "Resultado: Success (payload status unclear), Cantidad: 1\n"
     ]
    }
   ],
   "source": [
    "# Conectar a la base de datos\n",
    "connection = sqlite3.connect('my_data1.db')  # Reemplaza con el nombre de tu base de datos\n",
    "cursor = connection.cursor()\n",
    "\n",
    "# Nombre de la tabla y columna\n",
    "nombre_de_la_tabla = 'SPACEXTABLE'  # Reemplaza con el nombre de tu tabla\n",
    "nombre_de_la_columna_resultado = 'Mission_Outcome'  # Reemplaza con el nombre de la columna de resultados de misión\n",
    "\n",
    "# Obtener el número total de misiones exitosas y fallidas\n",
    "query = f\"SELECT {nombre_de_la_columna_resultado}, COUNT(*) FROM {nombre_de_la_tabla} GROUP BY {nombre_de_la_columna_resultado};\"\n",
    "cursor.execute(query)\n",
    "resultados = cursor.fetchall()\n",
    "\n",
    "# Mostrar el número total de misiones exitosas y fallidas\n",
    "for resultado, count in resultados:\n",
    "    print(f\"Resultado: {resultado}, Cantidad: {count}\")\n",
    "\n",
    "# Cerrar la conexión\n",
    "connection.close()"
   ]
  },
  {
   "cell_type": "markdown",
   "metadata": {},
   "source": [
    "### Task 8\n",
    "\n",
    "\n",
    "\n",
    "##### List the   names of the booster_versions which have carried the maximum payload mass. Use a subquery\n"
   ]
  },
  {
   "cell_type": "code",
   "execution_count": 42,
   "metadata": {
    "tags": []
   },
   "outputs": [
    {
     "name": "stdout",
     "output_type": "stream",
     "text": [
      "F9 B5 B1048.4\n",
      "F9 B5 B1049.4\n",
      "F9 B5 B1051.3\n",
      "F9 B5 B1056.4\n",
      "F9 B5 B1048.5\n",
      "F9 B5 B1051.4\n",
      "F9 B5 B1049.5\n",
      "F9 B5 B1060.2 \n",
      "F9 B5 B1058.3 \n",
      "F9 B5 B1051.6\n",
      "F9 B5 B1060.3\n",
      "F9 B5 B1049.7 \n"
     ]
    }
   ],
   "source": [
    "connection = sqlite3.connect('my_data1.db')  # Reemplaza con el nombre de tu base de datos\n",
    "cursor = connection.cursor()\n",
    "\n",
    "# Nombre de la tabla y columnas\n",
    "nombre_de_la_tabla = 'SPACEXTABLE'  # Reemplaza con el nombre de tu tabla\n",
    "nombre_de_la_columna_version = 'Booster_Version'  # Reemplaza con el nombre de la columna de versiones de cohetes\n",
    "nombre_de_la_columna_carga_util = 'PAYLOAD_MASS__KG_'  # Reemplaza con el nombre de la columna de masa de carga útil\n",
    "\n",
    "# Obtener nombres de versiones de cohetes con carga útil máxima\n",
    "query = f\"SELECT {nombre_de_la_columna_version} FROM {nombre_de_la_tabla} WHERE {nombre_de_la_columna_carga_util} = (SELECT MAX({nombre_de_la_columna_carga_util}) FROM {nombre_de_la_tabla});\"\n",
    "cursor.execute(query)\n",
    "versiones_max_carga_util = cursor.fetchall()\n",
    "\n",
    "# Mostrar los nombres de las versiones de cohetes\n",
    "for version in versiones_max_carga_util:\n",
    "    print(version[0])\n",
    "\n",
    "# Cerrar la conexión\n",
    "connection.close()"
   ]
  },
  {
   "cell_type": "markdown",
   "metadata": {},
   "source": [
    "### Task 9\n",
    "\n",
    "\n",
    "##### List the records which will display the month names, failure landing_outcomes in drone ship ,booster versions, launch_site for the months in year 2015.\n",
    "\n",
    "**Note: SQLLite does not support monthnames. So you need to use  substr(Date, 4, 2) as month to get the months and substr(Date,7,4)='2015' for year.**\n"
   ]
  },
  {
   "cell_type": "code",
   "execution_count": 48,
   "metadata": {
    "tags": []
   },
   "outputs": [],
   "source": [
    "# Conectar a la base de datos\n",
    "conexion = sqlite3.connect('my_data1.db')  # Reemplaza con el nombre real de tu base de datos\n",
    "cursor = conexion.cursor()\n",
    "\n",
    "# Nombre de la tabla y columnas\n",
    "nombre_de_tabla = 'SPACEXTABLE'  # Reemplaza con el nombre real de tu tabla\n",
    "columna_fecha = 'Date'  # Reemplaza con el nombre de tu columna de fecha\n",
    "columna_resultado_aterrizaje = 'Mission_Outcome'  # Reemplaza con el nombre de tu columna de resultado de aterrizaje\n",
    "columna_version = 'Booster_Version'  # Reemplaza con el nombre de tu columna de versiones de cohetes\n",
    "columna_sitio_lanzamiento = 'Launch_Site'  # Reemplaza con el nombre de tu columna de sitio de lanzamiento\n",
    "\n",
    "# Obtener registros para resultados de aterrizaje fallidos en drone ship en los meses del año 2015\n",
    "consulta = f\"\"\"\n",
    "    SELECT \n",
    "        CASE substr({columna_fecha}, 4, 2)\n",
    "            WHEN '01' THEN 'Enero'\n",
    "            WHEN '02' THEN 'Febrero'\n",
    "            WHEN '03' THEN 'Marzo'\n",
    "            WHEN '04' THEN 'Abril'\n",
    "            WHEN '05' THEN 'Mayo'\n",
    "            WHEN '06' THEN 'Junio'\n",
    "            WHEN '07' THEN 'Julio'\n",
    "            WHEN '08' THEN 'Agosto'\n",
    "            WHEN '09' THEN 'Septiembre'\n",
    "            WHEN '10' THEN 'Octubre'\n",
    "            WHEN '11' THEN 'Noviembre'\n",
    "            WHEN '12' THEN 'Diciembre'\n",
    "        END AS Mes,\n",
    "        {columna_resultado_aterrizaje},\n",
    "        {columna_version},\n",
    "        {columna_sitio_lanzamiento}\n",
    "    FROM {nombre_de_tabla}\n",
    "    WHERE substr({columna_fecha}, 7, 4) = '2015'\n",
    "        AND {columna_resultado_aterrizaje} LIKE 'Failure';\n",
    "\"\"\"\n",
    "cursor.execute(consulta)\n",
    "registros = cursor.fetchall()\n",
    "\n",
    "# Mostrar los registros\n",
    "for registro in registros:\n",
    "    print(registro)\n",
    "\n",
    "# Cerrar la conexión\n",
    "conexion.close()"
   ]
  },
  {
   "cell_type": "markdown",
   "metadata": {},
   "source": [
    "### Task 10\n",
    "\n",
    "\n",
    "\n",
    "\n",
    "##### Rank the count of landing outcomes (such as Failure (drone ship) or Success (ground pad)) between the date 2010-06-04 and 2017-03-20, in descending order.\n"
   ]
  },
  {
   "cell_type": "code",
   "execution_count": 46,
   "metadata": {
    "tags": []
   },
   "outputs": [
    {
     "name": "stdout",
     "output_type": "stream",
     "text": [
      "Resultado de Aterrizaje: Success, Recuento: 31\n",
      "Resultado de Aterrizaje: Failure (in flight), Recuento: 1\n"
     ]
    }
   ],
   "source": [
    "# Conectar a la base de datos\n",
    "conexion = sqlite3.connect('my_data1.db')  # Reemplaza con el nombre real de tu base de datos\n",
    "cursor = conexion.cursor()\n",
    "\n",
    "# Nombre de la tabla y columna\n",
    "nombre_de_tabla = 'SPACEXTABLE'  # Reemplaza con el nombre real de tu tabla\n",
    "columna_fecha = 'Date'  # Reemplaza con el nombre de tu columna de fecha\n",
    "columna_resultado_aterrizaje = 'Mission_Outcome'  # Reemplaza con el nombre de tu columna de resultado de aterrizaje\n",
    "\n",
    "# Obtener el ranking del recuento de resultados de aterrizaje entre las fechas especificadas\n",
    "consulta = f\"\"\"\n",
    "    SELECT {columna_resultado_aterrizaje}, COUNT({columna_resultado_aterrizaje}) AS Recuento\n",
    "    FROM {nombre_de_tabla}\n",
    "    WHERE {columna_fecha} BETWEEN '2010-06-04' AND '2017-03-20'\n",
    "    GROUP BY {columna_resultado_aterrizaje}\n",
    "    ORDER BY Recuento DESC;\n",
    "\"\"\"\n",
    "cursor.execute(consulta)\n",
    "resultados = cursor.fetchall()\n",
    "\n",
    "# Mostrar el ranking de recuento de resultados de aterrizaje\n",
    "for resultado in resultados:\n",
    "    print(f\"Resultado de Aterrizaje: {resultado[0]}, Recuento: {resultado[1]}\")\n",
    "\n",
    "# Cerrar la conexión\n",
    "conexion.close()"
   ]
  },
  {
   "cell_type": "markdown",
   "metadata": {},
   "source": [
    "### Reference Links\n",
    "\n",
    "* <a href =\"https://cf-courses-data.s3.us.cloud-object-storage.appdomain.cloud/IBMDeveloperSkillsNetwork-DB0201EN-SkillsNetwork/labs/Labs_Coursera_V5/labs/Lab%20-%20String%20Patterns%20-%20Sorting%20-%20Grouping/instructional-labs.md.html?origin=www.coursera.org\">Hands-on Lab : String Patterns, Sorting and Grouping</a>  \n",
    "\n",
    "*  <a  href=\"https://cf-courses-data.s3.us.cloud-object-storage.appdomain.cloud/IBMDeveloperSkillsNetwork-DB0201EN-SkillsNetwork/labs/Labs_Coursera_V5/labs/Lab%20-%20Built-in%20functions%20/Hands-on_Lab__Built-in_Functions.md.html?origin=www.coursera.org\">Hands-on Lab: Built-in functions</a>\n",
    "\n",
    "*  <a  href=\"https://cf-courses-data.s3.us.cloud-object-storage.appdomain.cloud/IBMDeveloperSkillsNetwork-DB0201EN-SkillsNetwork/labs/Labs_Coursera_V5/labs/Lab%20-%20Sub-queries%20and%20Nested%20SELECTs%20/instructional-labs.md.html?origin=www.coursera.org\">Hands-on Lab : Sub-queries and Nested SELECT Statements</a>\n",
    "\n",
    "*   <a href=\"https://cf-courses-data.s3.us.cloud-object-storage.appdomain.cloud/IBMDeveloperSkillsNetwork-DB0201EN-SkillsNetwork/labs/Module%205/DB0201EN-Week3-1-3-SQLmagic.ipynb\">Hands-on Tutorial: Accessing Databases with SQL magic</a>\n",
    "\n",
    "*  <a href= \"https://cf-courses-data.s3.us.cloud-object-storage.appdomain.cloud/IBMDeveloperSkillsNetwork-DB0201EN-SkillsNetwork/labs/Module%205/DB0201EN-Week3-1-4-Analyzing.ipynb\">Hands-on Lab: Analyzing a real World Data Set</a>\n",
    "\n",
    "\n"
   ]
  },
  {
   "cell_type": "markdown",
   "metadata": {},
   "source": [
    "## Author(s)\n",
    "\n",
    "<h4> Lakshmi Holla </h4>\n"
   ]
  },
  {
   "cell_type": "markdown",
   "metadata": {},
   "source": [
    "## Other Contributors\n",
    "\n",
    "<h4> Rav Ahuja </h4>\n"
   ]
  },
  {
   "cell_type": "markdown",
   "metadata": {},
   "source": [
    "## Change log\n",
    "| Date | Version | Changed by | Change Description |\n",
    "|------|--------|--------|---------|\n",
    "| 2021-07-09 | 0.2 |Lakshmi Holla | Changes made in magic sql|\n",
    "| 2021-05-20 | 0.1 |Lakshmi Holla | Created Initial Version |\n"
   ]
  },
  {
   "cell_type": "markdown",
   "metadata": {},
   "source": [
    "## <h3 align=\"center\"> © IBM Corporation 2021. All rights reserved. <h3/>\n"
   ]
  }
 ],
 "metadata": {
  "kernelspec": {
   "display_name": "Python",
   "language": "python",
   "name": "conda-env-python-py"
  },
  "language_info": {
   "codemirror_mode": {
    "name": "ipython",
    "version": 3
   },
   "file_extension": ".py",
   "mimetype": "text/x-python",
   "name": "python",
   "nbconvert_exporter": "python",
   "pygments_lexer": "ipython3",
   "version": "3.7.12"
  }
 },
 "nbformat": 4,
 "nbformat_minor": 4
}
